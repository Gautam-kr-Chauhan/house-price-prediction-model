{
  "nbformat": 4,
  "nbformat_minor": 0,
  "metadata": {
    "colab": {
      "provenance": []
    },
    "kernelspec": {
      "name": "python3",
      "display_name": "Python 3"
    },
    "language_info": {
      "name": "python"
    }
  },
  "cells": [
    {
      "cell_type": "code",
      "execution_count": null,
      "metadata": {
        "id": "YsU3yjO4O6WE"
      },
      "outputs": [],
      "source": [
        "\n",
        "import pandas as pd\n",
        "import numpy as np\n",
        "import matplotlib.pyplot as plt\n"
      ]
    },
    {
      "cell_type": "code",
      "source": [
        "#Importing the dataset\n",
        "column_names = ['CRIM', 'ZN', 'INDUS', 'CHAS', 'NOX', 'RM', 'AGE', 'DIS', 'RAD', 'TAX', 'PTRATIO', 'B', 'LSTAT', 'MEDV']\n",
        "housing = pd.read_csv('/content/drive/MyDrive/company assignment/squibix/assignment/housing.csv', header=None, delimiter=r\"\\s+\", names=column_names)\n",
        "print(housing.head(5))"
      ],
      "metadata": {
        "colab": {
          "base_uri": "https://localhost:8080/"
        },
        "id": "yFHq1kh8Sw_5",
        "outputId": "75899c3c-0398-4fae-d1af-494b7731551b"
      },
      "execution_count": null,
      "outputs": [
        {
          "output_type": "stream",
          "name": "stdout",
          "text": [
            "      CRIM    ZN  INDUS  CHAS    NOX     RM   AGE     DIS  RAD    TAX  \\\n",
            "0  0.00632  18.0   2.31     0  0.538  6.575  65.2  4.0900    1  296.0   \n",
            "1  0.02731   0.0   7.07     0  0.469  6.421  78.9  4.9671    2  242.0   \n",
            "2  0.02729   0.0   7.07     0  0.469  7.185  61.1  4.9671    2  242.0   \n",
            "3  0.03237   0.0   2.18     0  0.458  6.998  45.8  6.0622    3  222.0   \n",
            "4  0.06905   0.0   2.18     0  0.458  7.147  54.2  6.0622    3  222.0   \n",
            "\n",
            "   PTRATIO       B  LSTAT  MEDV  \n",
            "0     15.3  396.90   4.98  24.0  \n",
            "1     17.8  396.90   9.14  21.6  \n",
            "2     17.8  392.83   4.03  34.7  \n",
            "3     18.7  394.63   2.94  33.4  \n",
            "4     18.7  396.90   5.33  36.2  \n"
          ]
        }
      ]
    },
    {
      "cell_type": "code",
      "source": [
        "housing.info()"
      ],
      "metadata": {
        "colab": {
          "base_uri": "https://localhost:8080/"
        },
        "id": "YZu-PO4bPEa1",
        "outputId": "e2c62933-2813-4bd7-d0f8-c6cd476a6da1"
      },
      "execution_count": null,
      "outputs": [
        {
          "output_type": "stream",
          "name": "stdout",
          "text": [
            "<class 'pandas.core.frame.DataFrame'>\n",
            "RangeIndex: 506 entries, 0 to 505\n",
            "Data columns (total 14 columns):\n",
            " #   Column   Non-Null Count  Dtype  \n",
            "---  ------   --------------  -----  \n",
            " 0   CRIM     506 non-null    float64\n",
            " 1   ZN       506 non-null    float64\n",
            " 2   INDUS    506 non-null    float64\n",
            " 3   CHAS     506 non-null    int64  \n",
            " 4   NOX      506 non-null    float64\n",
            " 5   RM       506 non-null    float64\n",
            " 6   AGE      506 non-null    float64\n",
            " 7   DIS      506 non-null    float64\n",
            " 8   RAD      506 non-null    int64  \n",
            " 9   TAX      506 non-null    float64\n",
            " 10  PTRATIO  506 non-null    float64\n",
            " 11  B        506 non-null    float64\n",
            " 12  LSTAT    506 non-null    float64\n",
            " 13  MEDV     506 non-null    float64\n",
            "dtypes: float64(12), int64(2)\n",
            "memory usage: 55.5 KB\n"
          ]
        }
      ]
    },
    {
      "source": [
        "min_value = housing.min()\n",
        "max_value = housing.max()\n",
        "print(min_value)\n",
        "print(max_value)"
      ],
      "cell_type": "code",
      "metadata": {
        "colab": {
          "base_uri": "https://localhost:8080/"
        },
        "id": "Fqki1FyvPmvk",
        "outputId": "d9df5da2-90a5-47f9-f9d3-023b87ab34df"
      },
      "execution_count": null,
      "outputs": [
        {
          "output_type": "stream",
          "name": "stdout",
          "text": [
            "CRIM         0.00632\n",
            "ZN           0.00000\n",
            "INDUS        0.46000\n",
            "CHAS         0.00000\n",
            "NOX          0.38500\n",
            "RM           3.56100\n",
            "AGE          2.90000\n",
            "DIS          1.12960\n",
            "RAD          1.00000\n",
            "TAX        187.00000\n",
            "PTRATIO     12.60000\n",
            "B            0.32000\n",
            "LSTAT        1.73000\n",
            "MEDV         5.00000\n",
            "dtype: float64\n",
            "CRIM        88.9762\n",
            "ZN         100.0000\n",
            "INDUS       27.7400\n",
            "CHAS         1.0000\n",
            "NOX          0.8710\n",
            "RM           8.7800\n",
            "AGE        100.0000\n",
            "DIS         12.1265\n",
            "RAD         24.0000\n",
            "TAX        711.0000\n",
            "PTRATIO     22.0000\n",
            "B          396.9000\n",
            "LSTAT       37.9700\n",
            "MEDV        50.0000\n",
            "dtype: float64\n"
          ]
        }
      ]
    },
    {
      "cell_type": "code",
      "source": [
        "#min max normalization\n",
        "minmax_housing = (housing - min_value) / (max_value - min_value)\n",
        "print(minmax_housing.head(5))"
      ],
      "metadata": {
        "colab": {
          "base_uri": "https://localhost:8080/"
        },
        "id": "e5DPGckYPKKY",
        "outputId": "4a7ad843-34b1-455a-85dd-ccf6433792ea"
      },
      "execution_count": null,
      "outputs": [
        {
          "output_type": "stream",
          "name": "stdout",
          "text": [
            "       CRIM    ZN     INDUS  CHAS       NOX        RM       AGE       DIS  \\\n",
            "0  0.000000  0.18  0.067815   0.0  0.314815  0.577505  0.641607  0.269203   \n",
            "1  0.000236  0.00  0.242302   0.0  0.172840  0.547998  0.782698  0.348962   \n",
            "2  0.000236  0.00  0.242302   0.0  0.172840  0.694386  0.599382  0.348962   \n",
            "3  0.000293  0.00  0.063050   0.0  0.150206  0.658555  0.441813  0.448545   \n",
            "4  0.000705  0.00  0.063050   0.0  0.150206  0.687105  0.528321  0.448545   \n",
            "\n",
            "        RAD       TAX   PTRATIO         B     LSTAT      MEDV  \n",
            "0  0.000000  0.208015  0.287234  1.000000  0.089680  0.422222  \n",
            "1  0.043478  0.104962  0.553191  1.000000  0.204470  0.368889  \n",
            "2  0.043478  0.104962  0.553191  0.989737  0.063466  0.660000  \n",
            "3  0.086957  0.066794  0.648936  0.994276  0.033389  0.631111  \n",
            "4  0.086957  0.066794  0.648936  1.000000  0.099338  0.693333  \n"
          ]
        }
      ]
    },
    {
      "cell_type": "code",
      "source": [
        "#Train test split\n",
        "from sklearn.model_selection import train_test_split\n",
        "x_train, x_test, y_train, y_test = train_test_split(minmax_housing.drop('MEDV', axis=1), minmax_housing['MEDV'], test_size=0.2, random_state=42)"
      ],
      "metadata": {
        "id": "0eH5TQqTP2xI"
      },
      "execution_count": null,
      "outputs": []
    },
    {
      "cell_type": "code",
      "source": [
        "x_train.shape, x_test.shape, y_train.shape, y_test.shape"
      ],
      "metadata": {
        "colab": {
          "base_uri": "https://localhost:8080/"
        },
        "id": "e1NPTNFvsFp0",
        "outputId": "c9cd8469-0892-4ef6-999d-8999c07d1e02"
      },
      "execution_count": null,
      "outputs": [
        {
          "output_type": "execute_result",
          "data": {
            "text/plain": [
              "((404, 13), (102, 13), (404,), (102,))"
            ]
          },
          "metadata": {},
          "execution_count": 19
        }
      ]
    },
    {
      "cell_type": "code",
      "source": [
        "#model creation\n",
        "from sklearn.linear_model import LinearRegression\n",
        "from sklearn.metrics import mean_squared_error, r2_score\n",
        "model = LinearRegression()\n",
        "model.fit(x_train, y_train)\n",
        "y_pred = model.predict(x_test)\n",
        "mse = mean_squared_error(y_test, y_pred)\n",
        "r2 = r2_score(y_test, y_pred)\n",
        "print(\"Mean Squared Error:\", mse)\n",
        "print(\"R-squared:\", r2)\n"
      ],
      "metadata": {
        "colab": {
          "base_uri": "https://localhost:8080/"
        },
        "id": "2cgcDsN5sNfp",
        "outputId": "a031a4b8-1c88-4229-e39d-474f8ea4c239"
      },
      "execution_count": null,
      "outputs": [
        {
          "output_type": "stream",
          "name": "stdout",
          "text": [
            "Mean Squared Error: 0.011995614555542483\n",
            "R-squared: 0.6687594935356318\n"
          ]
        }
      ]
    },
    {
      "cell_type": "code",
      "source": [
        "# Create a scatter plot\n",
        "plt.scatter(y_test, y_pred, color='blue')\n",
        "plt.plot([min(y_test), max(y_test)], [min(y_test), max(y_test)], color='red', linestyle='--')\n",
        "plt.xlabel('Actual Prices')\n",
        "plt.ylabel('Predicted Prices')\n",
        "plt.title('Actual vs. Predicted Prices')\n",
        "plt.show()"
      ],
      "metadata": {
        "colab": {
          "base_uri": "https://localhost:8080/",
          "height": 472
        },
        "id": "BlxrxS83trwz",
        "outputId": "8ba5d59e-92f1-4a39-ca90-f8486d3c7182"
      },
      "execution_count": null,
      "outputs": [
        {
          "output_type": "display_data",
          "data": {
            "text/plain": [
              "<Figure size 640x480 with 1 Axes>"
            ],
            "image/png": "[encoded data removed]"
          },
          "metadata": {}
        }
      ]
    },
    {
      "cell_type": "code",
      "source": [
        "#visualizing the coefficients\n",
        "model.coef_"
      ],
      "metadata": {
        "colab": {
          "base_uri": "https://localhost:8080/"
        },
        "id": "oaKKODc7vzfq",
        "outputId": "4c40d67d-6350-4e95-9601-a6be792b4b73"
      },
      "execution_count": null,
      "outputs": [
        {
          "output_type": "execute_result",
          "data": {
            "text/plain": [
              "array([-0.22352382,  0.06691214,  0.02447969,  0.0618764 , -0.18578844,\n",
              "        0.51480624, -0.01358615, -0.3538229 ,  0.13413075, -0.12397591,\n",
              "       -0.19122864,  0.10885094, -0.40956952])"
            ]
          },
          "metadata": {},
          "execution_count": 32
        }
      ]
    },
    {
      "cell_type": "markdown",
      "source": [
        "\n",
        "### Interpretation of Coefficients\n",
        "- **Positive Coefficient**: A positive value means that as the feature increases, the housing price is expected to increase, assuming all other features remain constant.\n",
        "- **Negative Coefficient**: A negative value means that as the feature increases, the housing price is expected to decrease, assuming all other features remain constant.\n",
        "\n",
        "### Feature Impact\n",
        "Given coefficients and the feature names:\n",
        "\n",
        "1. **CRIM (-0.2235)**: Higher crime rates are associated with lower housing prices.\n",
        "2. **ZN (0.0669)**: Higher proportions of residential land zoned for large lots are associated with slightly higher housing prices.\n",
        "3. **INDUS (0.0245)**: Higher proportions of non-retail business acres per town are associated with slightly higher housing prices.\n",
        "4. **CHAS (0.0619)**: Being near the Charles River has a positive but small impact on housing prices.\n",
        "5. **NOX (-0.1858)**: Higher nitric oxide concentration (pollution) is associated with lower housing prices.\n",
        "6. **RM (0.5148)**: More rooms per dwelling are strongly associated with higher housing prices.\n",
        "7. **AGE (-0.0136)**: Older homes (proportion of owner-occupied units built before 1940) have a slight negative impact on housing prices.\n",
        "8. **DIS (-0.3538)**: Greater distances to employment centers are associated with lower housing prices.\n",
        "9. **RAD (0.1341)**: Higher accessibility to radial highways is associated with higher housing prices.\n",
        "10. **TAX (-0.1240)**: Higher property tax rates are associated with lower housing prices.\n",
        "11. **PTRATIO (-0.1912)**: Higher pupil-teacher ratios in schools are associated with lower housing prices.\n",
        "12. **B (0.1089)**: Higher proportions of the population that are Black (B) are associated with higher housing prices.\n",
        "13. **LSTAT (-0.4096)**: Higher percentages of lower status of the population are strongly associated with lower housing prices.\n",
        "\n",
        "### Summary\n",
        "- **Strong Positive Impact**: `RM` (number of rooms), `RAD` (accessibility to highways)\n",
        "- **Strong Negative Impact**: `LSTAT` (lower status population), `DIS` (distance to employment centers), `NOX` (pollution)\n",
        "\n",
        "These coefficients help us understand which features are most influential in predicting housing prices."
      ],
      "metadata": {
        "id": "u84NaSI63o0l"
      }
    },
    {
      "cell_type": "code",
      "source": [],
      "metadata": {
        "id": "DwaeaFdo3BCi"
      },
      "execution_count": null,
      "outputs": []
    }
  ]
}